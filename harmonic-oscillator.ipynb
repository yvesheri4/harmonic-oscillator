{
 "cells": [
  {
   "cell_type": "markdown",
   "id": "cheap-principal",
   "metadata": {},
   "source": [
    "#   Numerical investigation of an oscillator\n",
    "\n",
    "##  Yves HERI\n",
    "\n",
    "We consider a particle of mass $m = 1$ moving on the horizontal $x$ axis in a potential $U=\\omega_{0}^2 x^{2}/2$,\n",
    "subject to a friction force $F_{friction}=-2\\gamma \\dot{x}$ and a driving force $F_{driving}=\\alpha\\cos(t+\\phi)$. The equation of motion is therefore of the general form\n",
    "\n",
    "\\begin{equation} \\ddot{x}+2\\gamma \\dot{x}+ \\omega_0^2x-\\alpha\\cos(t+\\phi)=0  \\qquad(1)\\end{equation}\n",
    "\n",
    "This is a harmonic oscillator with damping (friction) and driving. We want to study the solutions of this equation in terms of the free parameters of the problem. These are the initial position $x_{0}$, the initial velocity $\\dot{x}_{0}$, the frequency $\\omega_{0}$, and the parameters $\\gamma$, $\\alpha$, and $\\phi$. Once we have the\n",
    "solution we want to produce plots of the position, the velocity, the potential and kinetic energy,and the phase portrait (velocity in terms of position).\n",
    "### - First step:\n",
    "By denoting the velocity $v$ (i.e. $v = \\dot{x}$), rewrite (1) as a system of first order ODEs in $x$ and $v$.\n",
    "\n"
   ]
  },
  {
   "cell_type": "markdown",
   "id": "former-surgeon",
   "metadata": {},
   "source": [
    "\\begin{equation}\n",
    "\\begin{cases}\n",
    " \\dot{x}=v \\\\\n",
    " \\dot{v}=-2\\gamma v-\\omega_0^2x+\\alpha\\cos(t+\\phi)\n",
    "\\end{cases}\n",
    "\\end{equation}"
   ]
  },
  {
   "cell_type": "markdown",
   "id": "civil-mexican",
   "metadata": {},
   "source": [
    "### - Second step:  \n",
    "Let $\\{t_k \\}$ be a partition of $[0,60]$ such that $0=t_0<t_1<\\cdots<t_{600}=60$ and $H$ be the constant length of the $k$-th subinterval (i.e. $H = t_k -t_{k-1}$).\n",
    "\n",
    "Using <b>odeint</b>, write a Python function named <b>Oscillator_func</b> which takes $x_{0}$, $\\dot{x}_{0}$, $\\omega_{0}$, $\\gamma$, $\\alpha$ and  $\\phi$ as inputs and return the arrays $x$ and $v$ (numerical solution of the system of ODEs obtained above) such that for a given index $k$ we have $x[k]= x(t_k)$ and $v[k] = v(t_k)$\n",
    "\n"
   ]
  },
  {
   "cell_type": "markdown",
   "id": "formal-merchandise",
   "metadata": {},
   "source": [
    "."
   ]
  },
  {
   "cell_type": "markdown",
   "id": "ignored-developer",
   "metadata": {},
   "source": [
    "## Function Oscillator_func"
   ]
  },
  {
   "cell_type": "code",
   "execution_count": 1,
   "id": "honey-comment",
   "metadata": {},
   "outputs": [],
   "source": [
    "import seaborn as sns\n",
    "import numpy as np\n",
    "from scipy.integrate import odeint\n",
    "import numpy as np\n",
    "import matplotlib.pyplot as plt\n",
    "\n",
    "def Oscillator_func(x0, dx0, omega0, Gam, alpha, Phi):\n",
    "    t = np.linspace(0, 60,600)\n",
    "    H=t[1]-t[0]\n",
    "    \n",
    "    def ODE(X, t, Gam, omega0, Phi):\n",
    "        x, dotx = X\n",
    "        ddotx = -2*Gam*dotx - omega0**2*x + alpha* np.cos(t+Phi)\n",
    "        return [dotx, ddotx]\n",
    "    X0 = np.array([x0,dx0])\n",
    "    Gam=Gam\n",
    "    omega0=omega0\n",
    "    Phi=Phi\n",
    "    sol = odeint(ODE, X0, t, args = (Gam, omega0, Phi))\n",
    "    x=sol[:,0]\n",
    "    v=sol[:,1]\n",
    "    return np.array([x,v])"
   ]
  },
  {
   "cell_type": "markdown",
   "id": "guilty-communications",
   "metadata": {},
   "source": [
    "### - Third step: \n",
    "You can then play with the numerical values ($x_{0}$, $\\dot{x}_{0}$, $\\omega_{0}$, $\\gamma$, $\\alpha$, $\\phi$) to investigate different situations. From now on, we assume that\n",
    "\n",
    " \\begin{equation} x_{0}=5,\\qquad \\dot{x}_{0}=0,\\qquad \\omega_{0}=0.8,\\qquad \\phi=10.\\end{equation} \n",
    " \n",
    " \n",
    "write a code which produces the following three graphs:\n",
    "\n",
    " - First graph:\n",
    "position $x(t)$ and velocity $\\dot{x}(t)$, both as a function of time.\n",
    "\n",
    " - Second graph: \n",
    " potential energy $U(t)$ and kinetic energy $K(t)$, both as a function of time.\n",
    " \n",
    " - Third graph: \n",
    " a parametric plot representing the position $x(t)$ in terms of the position $\\dot{x}(t)$.\n",
    " \n",
    " #### a- for  $\\alpha=0, \\gamma=0$ (Harmonic oscillator)\n",
    " \n",
    "This is the usual harmonic oscillator, with the position and the velocity oscillating for ever, as you\n",
    "can see on this plot:"
   ]
  },
  {
   "cell_type": "code",
   "execution_count": 11,
   "id": "spread-worthy",
   "metadata": {},
   "outputs": [],
   "source": [
    "t = np.linspace(0, 60,600)\n",
    "x0=5\n",
    "dx0=0\n",
    "omega0=0.8\n",
    "alpha=0\n",
    "Gam=0\n",
    "Phi=10\n",
    "\n",
    "sol=Oscillator_func(x0, dx0, omega0, Gam, alpha, Phi)\n",
    "\n",
    "plt.grid()\n",
    "\n",
    "plt.plot(t,sol[0],label='x(t)',linewidth=2)\n",
    "plt.plot(t,sol[1],label='v(t)',linewidth=2)\n",
    "\n",
    "\n",
    "plt.xlabel(\"Time, $t$\")\n",
    "plt.ylabel(\"Amplitude, $a$\")\n",
    "plt.legend()\n",
    "plt.show()"
   ]
  },
  {
   "cell_type": "markdown",
   "id": "offshore-kernel",
   "metadata": {},
   "source": [
    " The kinetic energy $K$ and the potential energy $U$ both oscillate for ever, and the total energy $E = K + U$ is equal to a constant at any time. This is conservation of energy."
   ]
  },
  {
   "cell_type": "code",
   "execution_count": 12,
   "id": "valued-carter",
   "metadata": {},
   "outputs": [],
   "source": [
    "x=sol[0]\n",
    "v=sol[1]\n",
    "U = (1/2)*omega0**2*(x)**2\n",
    "K=(1/2)*v**2\n",
    "\n",
    "plt.plot(t,U,label='Potential energy',linewidth=2)\n",
    "plt.plot(t,K,label='Kinetic energy',linewidth=2)\n",
    "\n",
    "plt.grid()\n",
    "\n",
    "\n",
    "plt.xlabel(\"Time, $t$\")\n",
    "plt.ylabel(\"Energy\")\n",
    "plt.legend()\n",
    "plt.show()"
   ]
  },
  {
   "cell_type": "markdown",
   "id": "vertical-prescription",
   "metadata": {},
   "source": [
    " The phase portrait is closed, and the trajectories go for ever around this ellipse representing pairs\n",
    "of points $x(t)$ and $\\dot{x}(t)$. We see that $x(t)$ and $\\dot{x}(t)$ never reach $0$."
   ]
  },
  {
   "cell_type": "code",
   "execution_count": 13,
   "id": "dental-payday",
   "metadata": {},
   "outputs": [],
   "source": [
    "x=sol[0]\n",
    "v=sol[1]\n",
    "plt.grid()\n",
    "\n",
    "\n",
    "plt.plot(x,v,linewidth=2)\n",
    "\n",
    "plt.show()"
   ]
  },
  {
   "cell_type": "markdown",
   "id": "coordinated-heritage",
   "metadata": {},
   "source": [
    "#### b- for  $\\alpha=0, \\gamma=0.1$ (Damped oscillator)\n",
    "\n",
    "\n",
    "In this case we have $\\gamma^2 < \\omega_{0}^2$, which corresponds to the under-damped regime discussed in class. The solution has an oscillatoray behavior with an exponential damping, as you can see on this\n",
    "plot:"
   ]
  },
  {
   "cell_type": "code",
   "execution_count": 14,
   "id": "rational-combining",
   "metadata": {},
   "outputs": [],
   "source": [
    "t = np.linspace(0, 60,600)\n",
    "x0=5\n",
    "dx0=0\n",
    "omega0=0.8\n",
    "alpha=0\n",
    "Gam=0.1\n",
    "Phi=10\n",
    "\n",
    "sol=Oscillator_func(x0, dx0, omega0, Gam, alpha, Phi)\n",
    "\n",
    "fig = plt.figure()\n",
    "\n",
    "plt.grid()\n",
    "\n",
    "\n",
    "plt.plot(t,sol[0],label='x(t)')\n",
    "plt.plot(t,sol[1],label='v(t)')\n",
    "\n",
    "\n",
    "plt.xlabel(\"Time, $t$\")\n",
    "plt.ylabel(\"Amplitude, $a$\")\n",
    "plt.legend()\n",
    "plt.show()"
   ]
  },
  {
   "cell_type": "markdown",
   "id": "intense-positive",
   "metadata": {},
   "source": [
    "Es expected, the mechanical energy is not conserved because of friction (this is why the motion\n",
    "eventually stops). You can see on this plot that energy goes to zero:\n"
   ]
  },
  {
   "cell_type": "code",
   "execution_count": 15,
   "id": "radio-plenty",
   "metadata": {},
   "outputs": [],
   "source": [
    "x=sol[0]\n",
    "v=sol[1]\n",
    "U = (1/2)*omega0**2*(x)**2\n",
    "K=(1/2)*v**2\n",
    "\n",
    "plt.grid()\n",
    "\n",
    "\n",
    "plt.plot(t,U,label='Potential energy')\n",
    "plt.plot(t,K,label='Kinetic energy')\n",
    "\n",
    "\n",
    "plt.xlabel(\"Time, $t$\")\n",
    "plt.ylabel(\"Energy\")\n",
    "plt.legend()\n",
    "plt.show()"
   ]
  },
  {
   "cell_type": "markdown",
   "id": "structural-demand",
   "metadata": {},
   "source": [
    "In the phase portrait the trajectory starts at $x_{0}=5$ and $\\dot{x}_{0}=0$, which is our initial condition, and\n",
    "is attracted to the point $x = 0$ and $\\dot{x}=0$. This is consistent with what we see above on the plots\n",
    "of $x(t)$ and $\\dot{x}(t)$."
   ]
  },
  {
   "cell_type": "code",
   "execution_count": 16,
   "id": "fifteen-assignment",
   "metadata": {},
   "outputs": [],
   "source": [
    "x=sol[0]\n",
    "v=sol[1]\n",
    "\n",
    "plt.grid()\n",
    "\n",
    "\n",
    "plt.plot(x,v)\n",
    "\n",
    "plt.show()"
   ]
  },
  {
   "cell_type": "markdown",
   "id": "convinced-account",
   "metadata": {},
   "source": [
    "#### c- for  $\\alpha=1, \\gamma=0.1$ (Damped oscillator with driving) \n",
    "\n",
    "In this case the motion is initially damped, as in the previous case, but after some time the driving force takes over and becomes dominant, so the motion is again oscillatory, where the oscillations are dictated by the driving. This can be seen on the plot."
   ]
  },
  {
   "cell_type": "code",
   "execution_count": 17,
   "id": "announced-colleague",
   "metadata": {},
   "outputs": [],
   "source": [
    "t = np.linspace(0, 60,600)\n",
    "x0=5\n",
    "dx0=0\n",
    "omega0=0.8\n",
    "alpha=1\n",
    "Gam=0.1\n",
    "Phi=10\n",
    "\n",
    "sol=Oscillator_func(x0, dx0, omega0, Gam, alpha, Phi)\n",
    "\n",
    "fig = plt.figure()\n",
    "\n",
    "plt.grid()\n",
    "\n",
    "\n",
    "plt.plot(t,sol[0],label='x(t)')\n",
    "plt.plot(t,sol[1],label='v(t)')\n",
    "\n",
    "\n",
    "plt.xlabel(\"Time, $t$\")\n",
    "plt.ylabel(\"Amplitude, $a$\")\n",
    "plt.legend()\n",
    "plt.show()"
   ]
  },
  {
   "cell_type": "markdown",
   "id": "oriented-pickup",
   "metadata": {},
   "source": [
    "The energy is initially decreasing, as in the damped case, but then the driving starts to inject energy in the system, so energy increases once again and starts to oscillate between kinetic and potential.\n"
   ]
  },
  {
   "cell_type": "code",
   "execution_count": 18,
   "id": "superb-public",
   "metadata": {},
   "outputs": [],
   "source": [
    "x=sol[0]\n",
    "v=sol[1]\n",
    "U = (1/2)*omega0**2*(x)**2\n",
    "K=(1/2)*v**2\n",
    "\n",
    "plt.plot(t,U,label='Potential energy')\n",
    "plt.plot(t,K,label='Kinetic energy')\n",
    "\n",
    "plt.grid()\n",
    "\n",
    "\n",
    "plt.xlabel(\"Time, $t$\")\n",
    "plt.ylabel(\"Energy\")\n",
    "plt.legend()\n",
    "plt.show()"
   ]
  },
  {
   "cell_type": "markdown",
   "id": "approved-halifax",
   "metadata": {},
   "source": [
    "\n",
    "In the phase portrait the trajectory starts at $x_{0}=5$ and $\\dot{x}_{0}=0$, which is our initial condition. It is initially attracted to the center, because of the damping as in the previous case, but then we see that the trajectory does not converge towards $(0, 0)$, but goes back to a stable circle."
   ]
  },
  {
   "cell_type": "code",
   "execution_count": 19,
   "id": "missing-conversion",
   "metadata": {},
   "outputs": [],
   "source": [
    "x=sol[0]\n",
    "v=sol[1]\n",
    "\n",
    "plt.grid()\n",
    "\n",
    "\n",
    "plt.plot(x,v)\n",
    "plt.show()"
   ]
  },
  {
   "cell_type": "markdown",
   "id": "e2baa45d",
   "metadata": {},
   "source": [
    "___"
   ]
  }
 ],
 "metadata": {
  "kernelspec": {
   "display_name": "Python 3 (ipykernel)",
   "language": "python",
   "name": "python3"
  },
  "language_info": {
   "codemirror_mode": {
    "name": "ipython",
    "version": 3
   },
   "file_extension": ".py",
   "mimetype": "text/x-python",
   "name": "python",
   "nbconvert_exporter": "python",
   "pygments_lexer": "ipython3",
   "version": "3.8.16"
  }
 },
 "nbformat": 4,
 "nbformat_minor": 5
}
